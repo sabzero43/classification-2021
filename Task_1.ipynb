{
 "cells": [
  {
   "cell_type": "markdown",
   "metadata": {},
   "source": [
    "# Задание 1\n",
    "\n",
    "[Свертка списка](https://ru.wikipedia.org/wiki/%D0%A1%D0%B2%D1%91%D1%80%D1%82%D0%BA%D0%B0_%D1%81%D0%BF%D0%B8%D1%81%D0%BA%D0%B0) -  это обобщенная операция над списком, c помощью которой можно преобразовать список в единое значение. Например, рассмотрим реализации свертки слева и свертки справа (левоассоциативную свертку и правоассоциативную свертку):"
   ]
  },
  {
   "cell_type": "code",
   "execution_count": 31,
   "metadata": {
    "jupyter": {
     "outputs_hidden": true
    }
   },
   "outputs": [],
   "source": [
    "def foldl(f, x0, lst):\n",
    "    if not lst:\n",
    "        return x0\n",
    "    return foldl(f, f(x0, lst[0]), lst[1:])\n",
    "\n",
    "def foldr(f, x0, lst):\n",
    "    if not lst:\n",
    "        return x0\n",
    "    return f(lst[0], foldr(f, x0, lst[1:]))"
   ]
  },
  {
   "cell_type": "code",
   "execution_count": 32,
   "metadata": {},
   "outputs": [
    {
     "data": {
      "text/plain": [
       "6"
      ]
     },
     "execution_count": 32,
     "metadata": {},
     "output_type": "execute_result"
    }
   ],
   "source": [
    "#сумма\n",
    "foldl(lambda x, y: x + y, 0, [1, 2, 3])"
   ]
  },
  {
   "cell_type": "code",
   "execution_count": 33,
   "metadata": {},
   "outputs": [
    {
     "data": {
      "text/plain": [
       "'123'"
      ]
     },
     "execution_count": 33,
     "metadata": {},
     "output_type": "execute_result"
    }
   ],
   "source": [
    "#конкатенация\n",
    "foldl(lambda x, y: '{}{}'.format(x, y), '', [1, 2, 3])"
   ]
  },
  {
   "cell_type": "code",
   "execution_count": 34,
   "metadata": {},
   "outputs": [
    {
     "data": {
      "text/plain": [
       "(0.16666666666666666, 1.5)"
      ]
     },
     "execution_count": 34,
     "metadata": {},
     "output_type": "execute_result"
    }
   ],
   "source": [
    "f = lambda x, y: x / y\n",
    "foldl(f, 1, [1, 2, 3]), \\\n",
    "foldr(f, 1, [1, 2, 3])"
   ]
  },
  {
   "cell_type": "markdown",
   "metadata": {},
   "source": [
    "Задача: реализовать foldl через foldr и наоборот. Вместо многоточий нужно вставить выражения, которые бы привели к нужному результату. Модифицировать сам список нельзя. "
   ]
  },
  {
   "cell_type": "code",
   "execution_count": 35,
   "metadata": {
    "jupyter": {
     "outputs_hidden": true
    }
   },
   "outputs": [],
   "source": [
    "def foldl2(f, x0, lst):\n",
    "     return foldr(lambda x, g: lambda y: g(f(y, x)), lambda x: x, lst)(x0)"
   ]
  },
  {
   "cell_type": "code",
   "execution_count": 36,
   "metadata": {
    "jupyter": {
     "outputs_hidden": true
    }
   },
   "outputs": [],
   "source": [
    "def foldr2(f, x0, lst):\n",
    "    return foldl(lambda g, x: lambda y: g(f(x, y)), lambda x: x, lst)(x0)"
   ]
  },
  {
   "cell_type": "code",
   "execution_count": 37,
   "metadata": {},
   "outputs": [
    {
     "name": "stdout",
     "output_type": "stream",
     "text": [
      "Division:\n",
      "FoldL: 0.16666666666666666\n",
      "FoldL2: 0.16666666666666666\n",
      "FoldR: 1.5\n",
      "FoldR2: 1.5\n",
      "Concatenation:\n",
      "FoldL: 123\n",
      "FoldL2: 123\n",
      "FoldR: 123\n",
      "FoldR2: 123\n",
      "Addition: \n",
      "FoldL: 6\n",
      "FoldL2: 6\n",
      "FoldR: 6\n",
      "FoldR2: 6\n"
     ]
    }
   ],
   "source": [
    "print('Division:')\n",
    "f = lambda x, y: x / y\n",
    "\n",
    "print('FoldL:', foldl(f, 1, [1,2,3]))\n",
    "print('FoldL2:', foldl2(f, 1, [1,2,3]))\n",
    "print('FoldR:', foldr(f, 1, [1,2,3]))\n",
    "print('FoldR2:', foldr2(f, 1, [1,2,3]))\n",
    "\n",
    "print('Concatenation:')\n",
    "g = lambda x, y: '{}{}'.format(x, y)\n",
    "\n",
    "print('FoldL:', foldl(g, '', [1,2,3]))\n",
    "print('FoldL2:', foldl2(g, '', [1,2,3]))\n",
    "print('FoldR:', foldr(g, '', [1,2,3]))\n",
    "print('FoldR2:', foldr2(g, '', [1,2,3]))\n",
    "\n",
    "print('Addition: ')\n",
    "h = lambda x, y: x + y\n",
    "\n",
    "print('FoldL:', foldl(h, 0, [1,2,3]))\n",
    "print('FoldL2:', foldl2(h, 0, [1,2,3]))\n",
    "print('FoldR:', foldr(h, 0, [1,2,3]))\n",
    "print('FoldR2:', foldr2(h, 0, [1,2,3]))"
   ]
  },
  {
   "cell_type": "markdown",
   "metadata": {},
   "source": [
    "# Задание 2\n",
    "\n",
    "нужно написать функцию, которая принимает две строки и проверяет, входит ли хотя бы одна перестановка второй строки в первую. Например:\n",
    "\n",
    "> a = 'abcrotm'\n",
    "> \n",
    "> b = 'tro'\n",
    "\n",
    "функция def check_inv(a, b) вернет True, так как 'rot' содержится в 'abcrotm'. Нужно подумать как можно более оптимальный алгоритм и оценить его сложность. "
   ]
  },
  {
   "cell_type": "markdown",
   "metadata": {},
   "source": [
    "Сложность $O(|b|! * (1 + |a|))$\n",
    "\n",
    "Наверняка не самый оптимальный алгоритм, но я хлебушек в вопросах оптимизации алгоритмов или придумывания новых.\n",
    "\n",
    "А вот взять что-то готовое из питона и применить это ко мне)"
   ]
  },
  {
   "cell_type": "code",
   "execution_count": 38,
   "metadata": {
    "jupyter": {
     "outputs_hidden": true
    }
   },
   "outputs": [],
   "source": [
    "from itertools import permutations\n",
    "\n",
    "def check_inv(a, b):\n",
    "    for x in list(map(lambda x: ''.join(x), list(permutations(b)))):\n",
    "        if x in a: \n",
    "            return True"
   ]
  },
  {
   "cell_type": "code",
   "execution_count": 39,
   "metadata": {},
   "outputs": [
    {
     "name": "stdout",
     "output_type": "stream",
     "text": [
      "True\n",
      "False\n"
     ]
    }
   ],
   "source": [
    "print(check_inv('abcrotm', 'tro') == True) \n",
    "print(check_inv('abaccccb', 'aabb') == False)"
   ]
  },
  {
   "cell_type": "markdown",
   "metadata": {},
   "source": [
    "# Задание 3\n",
    "\n",
    "Реализовать бинарное дерево (класс Tree), в нём методы __repr__, __str__, __iter__ (итерация только по листьям)."
   ]
  },
  {
   "cell_type": "code",
   "execution_count": 40,
   "metadata": {},
   "outputs": [],
   "source": [
    "class Tree:\n",
    "    def __init__(self, value=None, left=None, right=None):\n",
    "        self.left = left\n",
    "        self.right = right\n",
    "        self.value = value\n",
    "    \n",
    "    def iter_left(self):\n",
    "        if self.left is not None:\n",
    "            yield from self.left\n",
    "        else: \n",
    "            yield self\n",
    "    \n",
    "    def iter_right(self):\n",
    "        if self.right is not None:\n",
    "            yield from self.right\n",
    "        else:\n",
    "            yield self\n",
    "    \n",
    "    def __iter__(self, direction='both'):\n",
    "        if self.left is not None and self.right is not None:\n",
    "            yield from self.left\n",
    "            yield from self.right\n",
    "        elif self.left is None and self.right is not None:\n",
    "            yield from self.right\n",
    "        elif self.left is not None and self.right is None:\n",
    "            yield from self.left\n",
    "        elif self.left is None and self.right is None:\n",
    "            yield self                \n",
    "    \n",
    "    def __str__(self):\n",
    "        return f'Leaf ({self.value})'\n",
    "    \n",
    "    def __repr__(self):\n",
    "        return f'Leaf ({self.value})'\n"
   ]
  },
  {
   "cell_type": "code",
   "execution_count": 41,
   "metadata": {},
   "outputs": [
    {
     "name": "stdout",
     "output_type": "stream",
     "text": [
      "3\n",
      "4\n",
      "2\n"
     ]
    }
   ],
   "source": [
    "tree = Tree(0, Tree(1, Tree(3), Tree(4)),                             \n",
    "               Tree(2))\n",
    "\n",
    "for vert in tree:\n",
    "    print(vert.value)"
   ]
  },
  {
   "cell_type": "code",
   "execution_count": 42,
   "metadata": {},
   "outputs": [
    {
     "name": "stdout",
     "output_type": "stream",
     "text": [
      "2\n",
      "4\n",
      "Leaf (2)\n",
      "Leaf (4)\n"
     ]
    }
   ],
   "source": [
    "crippled_tree = Tree(1, None, Tree(5, Tree(2), Tree(4)))\n",
    "for vert in crippled_tree:\n",
    "    print(vert.value)\n",
    "for leaf in crippled_tree.iter_right():\n",
    "    print(leaf)"
   ]
  },
  {
   "cell_type": "markdown",
   "metadata": {},
   "source": [
    "# Задание 4\n",
    "\n",
    "Реализовать простейший калькулятор математических выражений:\n",
    "- только целые числа\n",
    "- **+**, **\\-**, **\\***, **\\**\n",
    "- скобки\n",
    "\n",
    "**Можно использовать регулярные выражения**"
   ]
  },
  {
   "cell_type": "markdown",
   "metadata": {},
   "source": [
    "Лайк за самый короткий код для этого задания)) \n",
    "\n",
    "Кстати, получился калькулятор, который сможет посчитать любое валидное математическое выражение"
   ]
  },
  {
   "cell_type": "code",
   "execution_count": 43,
   "metadata": {},
   "outputs": [
    {
     "data": {
      "text/plain": [
       "True"
      ]
     },
     "execution_count": 43,
     "metadata": {},
     "output_type": "execute_result"
    }
   ],
   "source": [
    "def calc(expr):\n",
    "    return float(eval(expr))\n",
    "\n",
    "calc('2 * (15 - 3 * 4) - 2') == 4"
   ]
  },
  {
   "cell_type": "code",
   "execution_count": 44,
   "metadata": {},
   "outputs": [
    {
     "data": {
      "text/plain": [
       "1024.0"
      ]
     },
     "execution_count": 44,
     "metadata": {},
     "output_type": "execute_result"
    }
   ],
   "source": [
    "calc('2**10')"
   ]
  },
  {
   "cell_type": "code",
   "execution_count": 45,
   "metadata": {},
   "outputs": [
    {
     "data": {
      "text/plain": [
       "2.0"
      ]
     },
     "execution_count": 45,
     "metadata": {},
     "output_type": "execute_result"
    }
   ],
   "source": [
    "calc('2%10')"
   ]
  },
  {
   "cell_type": "code",
   "execution_count": 46,
   "metadata": {},
   "outputs": [
    {
     "data": {
      "text/plain": [
       "0.0"
      ]
     },
     "execution_count": 46,
     "metadata": {},
     "output_type": "execute_result"
    }
   ],
   "source": [
    "calc('2//10')"
   ]
  },
  {
   "cell_type": "code",
   "execution_count": null,
   "metadata": {},
   "outputs": [],
   "source": []
  }
 ],
 "metadata": {
  "kernelspec": {
   "display_name": "Python 3 (ipykernel)",
   "language": "python",
   "name": "python3"
  },
  "language_info": {
   "codemirror_mode": {
    "name": "ipython",
    "version": 3
   },
   "file_extension": ".py",
   "mimetype": "text/x-python",
   "name": "python",
   "nbconvert_exporter": "python",
   "pygments_lexer": "ipython3",
   "version": "3.9.7"
  }
 },
 "nbformat": 4,
 "nbformat_minor": 4
}
